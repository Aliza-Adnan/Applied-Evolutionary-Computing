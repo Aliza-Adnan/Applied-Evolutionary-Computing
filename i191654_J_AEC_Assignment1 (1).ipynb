{
  "nbformat": 4,
  "nbformat_minor": 0,
  "metadata": {
    "colab": {
      "provenance": []
    },
    "kernelspec": {
      "name": "python3",
      "display_name": "Python 3"
    },
    "language_info": {
      "name": "python"
    }
  },
  "cells": [
    {
      "cell_type": "markdown",
      "source": [
        "Candidate chromosomes"
      ],
      "metadata": {
        "id": "ING499GJP4w4"
      }
    },
    {
      "cell_type": "code",
      "execution_count": 144,
      "metadata": {
        "id": "gWmc0-RLqbz7"
      },
      "outputs": [],
      "source": [
        "a=[60,4,5]# [inner angle in degrees,nodes,edges]\n",
        "b=[120,7,7]\n",
        "c=[90,5,9]\n",
        "d=[108,8,6]\n",
        "e=[45,4,4]\n",
        "f=[100,3,2]\n",
        "l=[]\n",
        "l.append(a)\n",
        "l.append(b)\n",
        "l.append(c)\n",
        "l.append(d)\n",
        "l.append(e)\n",
        "l.append(f)"
      ]
    },
    {
      "cell_type": "markdown",
      "source": [
        "Fitness function \\\n",
        "Criteria:\\\n",
        "1) Must have 5 nodes,\\\n",
        "2) Must have connected edges,\\\n",
        "3) Must have 100-110 degrees angle\\\n",
        "4) None of the values can be negative."
      ],
      "metadata": {
        "id": "Ca3A8bisQI0R"
      }
    },
    {
      "cell_type": "code",
      "source": [
        "def fitness_function(l):\n",
        "  fitness_list=[]\n",
        "  #print(l)\n",
        "  for i in l:\n",
        "    ff=0\n",
        "    if i[0]<=110 and i[0]>=100:# point 3\n",
        "      ff+=30\n",
        "    if i[1]==5:# point 1\n",
        "      ff+=30\n",
        "    if i[2]==i[1] and i[2]>0:# point 2\n",
        "      ff+=30\n",
        "    if i[2]>0 or i[1]>0:\n",
        "      ff+=10\n",
        "   # print(ff)\n",
        "    fitness_list.append(ff/100)\n",
        "  \n",
        "  return fitness_list\n"
      ],
      "metadata": {
        "id": "eHjpBMYdQGAz"
      },
      "execution_count": 145,
      "outputs": []
    },
    {
      "cell_type": "code",
      "source": [
        "#fitness_list=fitness_function(l)"
      ],
      "metadata": {
        "id": "gnhbezUlUhLi"
      },
      "execution_count": 146,
      "outputs": []
    },
    {
      "cell_type": "markdown",
      "source": [
        "Selection "
      ],
      "metadata": {
        "id": "801XKFkeQIw_"
      }
    },
    {
      "cell_type": "code",
      "source": [
        "import numpy as np\n",
        "from operator import itemgetter\n",
        "def selection(fitness_list):\n",
        "  d=np.argsort(np.array(fitness_list))\n",
        "  d=d.tolist()\n",
        "  selected=d[-3:]\n",
        "  fe=list(itemgetter(*selected)(l))\n",
        "  return fe"
      ],
      "metadata": {
        "id": "JlMyPw79VZJ1"
      },
      "execution_count": 147,
      "outputs": []
    },
    {
      "cell_type": "markdown",
      "source": [
        "CrossOver"
      ],
      "metadata": {
        "id": "quU27DP7byDS"
      }
    },
    {
      "cell_type": "code",
      "source": [
        "import random \n",
        "def crossover(fe):\n",
        "  r=[]\n",
        "  for i in range(len(fe)-1):\n",
        "    r.append(random.randint(0,len(fe)))\n",
        "  j=0\n",
        " # print(r)\n",
        " # print('heiu')\n",
        "  for i in range(len(r)-1):\n",
        "    fe[i][0],fe[i+1][0]=fe[i+1][0],fe[i][0]\n",
        "  return fe\n"
      ],
      "metadata": {
        "id": "LmfnzDa-dtMv"
      },
      "execution_count": 148,
      "outputs": []
    },
    {
      "cell_type": "markdown",
      "source": [
        "Mutation"
      ],
      "metadata": {
        "id": "r4nSKoV24uPV"
      }
    },
    {
      "cell_type": "code",
      "source": [
        "def mutation(fe):\n",
        "  r=random.randint(0,1)\n",
        "  #print(fe)\n",
        "  g=random.randint(0,len(fe)-1)\n",
        "  t=random.randint(1,2)\n",
        " # print(g,t)\n",
        "  #print(\"pipew\")\n",
        "  if r==0:\n",
        "    fe[g][t]=fe[g][t]+1\n",
        "  elif r==1:\n",
        "    fe[g][t]=fe[g][t]-1\n",
        "  return fe\n"
      ],
      "metadata": {
        "id": "Yyr1OWkmXbUz"
      },
      "execution_count": 149,
      "outputs": []
    },
    {
      "cell_type": "markdown",
      "source": [
        "Iterative procedure of steps"
      ],
      "metadata": {
        "id": "snFc7xXR7KXd"
      }
    },
    {
      "cell_type": "code",
      "source": [
        "def evolution(l):\n",
        "  target=[108,5,5]\n",
        "  if target in l:\n",
        "    return True\n",
        "  else:\n",
        "    h=0\n",
        "    #print(h)\n",
        "    while(1):\n",
        "      if target in l:\n",
        "        return l,1\n",
        "      ff=fitness_function(l)\n",
        "      print(ff)\n",
        "      if 0.8 in ff or 0.9 in ff or 1 in ff:\n",
        "        n=np.argmax(ff)\n",
        "\n",
        "        return l[n],max(ff)\n",
        "     # print(ff)\n",
        "      fs=selection(ff)\n",
        "      #print(fs)\n",
        "      c=crossover(fs)\n",
        "      l=c\n",
        "      \n",
        "      if h%4==0:\n",
        "        l=mutation(l)\n",
        "      print(l)\n",
        "      \n",
        "      h+=1\n",
        "      \n",
        "w,q=evolution(l)\n",
        "print('Best candidate solution is ')\n",
        "print(w)\n",
        "print(' with fitness value '+str(q))\n",
        "    \n",
        "\n",
        "\n"
      ],
      "metadata": {
        "id": "rlS8disv7Nv1",
        "colab": {
          "base_uri": "https://localhost:8080/"
        },
        "outputId": "bf6f6759-7832-4ec6-f2bf-63b2cd9f5e95"
      },
      "execution_count": 151,
      "outputs": [
        {
          "output_type": "stream",
          "name": "stdout",
          "text": [
            "[0.1, 0.4, 0.4, 0.1, 0.7, 0.4]\n",
            "[[100, 5, 10], [90, 3, 2], [108, 4, 4]]\n",
            "[0.7, 0.1, 0.7]\n",
            "[[60, 7, 7], [120, 4, 5], [100, 5, 10]]\n",
            "[0.4, 0.1, 0.7]\n",
            "[[120, 7, 7], [60, 4, 5], [100, 5, 10]]\n",
            "[0.4, 0.1, 0.7]\n",
            "[[60, 7, 7], [120, 4, 5], [100, 5, 10]]\n",
            "[0.4, 0.1, 0.7]\n",
            "[[120, 6, 7], [60, 4, 5], [100, 5, 10]]\n",
            "[0.1, 0.1, 0.7]\n",
            "[[120, 4, 5], [60, 6, 7], [100, 5, 10]]\n",
            "[0.1, 0.1, 0.7]\n",
            "[[60, 4, 5], [120, 6, 7], [100, 5, 10]]\n",
            "[0.1, 0.1, 0.7]\n",
            "[[120, 4, 5], [60, 6, 7], [100, 5, 10]]\n",
            "[0.1, 0.1, 0.7]\n",
            "[[60, 4, 5], [120, 6, 7], [100, 4, 10]]\n",
            "[0.1, 0.1, 0.4]\n",
            "[[120, 4, 5], [60, 6, 7], [100, 4, 10]]\n",
            "[0.1, 0.1, 0.4]\n",
            "[[60, 4, 5], [120, 6, 7], [100, 4, 10]]\n",
            "[0.1, 0.1, 0.4]\n",
            "[[120, 4, 5], [60, 6, 7], [100, 4, 10]]\n",
            "[0.1, 0.1, 0.4]\n",
            "[[60, 4, 5], [120, 5, 7], [100, 4, 10]]\n",
            "[0.1, 0.4, 0.4]\n",
            "[[120, 4, 5], [60, 5, 7], [100, 4, 10]]\n",
            "[0.1, 0.4, 0.4]\n",
            "[[60, 4, 5], [120, 5, 7], [100, 4, 10]]\n",
            "[0.1, 0.4, 0.4]\n",
            "[[120, 4, 5], [60, 5, 7], [100, 4, 10]]\n",
            "[0.1, 0.4, 0.4]\n",
            "[[60, 4, 5], [120, 5, 7], [100, 5, 10]]\n",
            "[0.1, 0.4, 0.7]\n",
            "[[120, 4, 5], [60, 5, 7], [100, 5, 10]]\n",
            "[0.1, 0.4, 0.7]\n",
            "[[60, 4, 5], [120, 5, 7], [100, 5, 10]]\n",
            "[0.1, 0.4, 0.7]\n",
            "[[120, 4, 5], [60, 5, 7], [100, 5, 10]]\n",
            "[0.1, 0.4, 0.7]\n",
            "[[60, 4, 5], [120, 5, 7], [100, 6, 10]]\n",
            "[0.1, 0.4, 0.4]\n",
            "[[120, 4, 5], [60, 5, 7], [100, 6, 10]]\n",
            "[0.1, 0.4, 0.4]\n",
            "[[60, 4, 5], [120, 5, 7], [100, 6, 10]]\n",
            "[0.1, 0.4, 0.4]\n",
            "[[120, 4, 5], [60, 5, 7], [100, 6, 10]]\n",
            "[0.1, 0.4, 0.4]\n",
            "[[60, 5, 5], [120, 5, 7], [100, 6, 10]]\n",
            "[0.7, 0.4, 0.4]\n",
            "[[100, 5, 7], [120, 6, 10], [60, 5, 5]]\n",
            "[0.7, 0.1, 0.7]\n",
            "[[60, 5, 7], [100, 5, 5], [120, 6, 10]]\n",
            "[0.4, 1.0, 0.1]\n",
            "Best candidate solution is \n",
            "[100, 5, 5]\n",
            " with fitness value 1.0\n"
          ]
        }
      ]
    }
  ]
}