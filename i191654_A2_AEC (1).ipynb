{
  "nbformat": 4,
  "nbformat_minor": 0,
  "metadata": {
    "colab": {
      "provenance": []
    },
    "kernelspec": {
      "name": "python3",
      "display_name": "Python 3"
    },
    "language_info": {
      "name": "python"
    }
  },
  "cells": [
    {
      "cell_type": "code",
      "source": [
        "import pandas as pd\n",
        "import numpy as np\n",
        "import itertools\n",
        "import random\n",
        "import copy"
      ],
      "metadata": {
        "id": "ZkE6ZIBCJqoC"
      },
      "execution_count": null,
      "outputs": []
    },
    {
      "cell_type": "code",
      "execution_count": null,
      "metadata": {
        "id": "FgBCXmwfC6aS"
      },
      "outputs": [],
      "source": [
        "def initializing_ants():\n",
        "  keys=[1,2,3]\n",
        "\n",
        "  ants={}\n",
        "  for i in keys:\n",
        "      ants[i] =None\n",
        "  return ants"
      ]
    },
    {
      "cell_type": "code",
      "source": [
        "import cv2\n",
        "from google.colab import drive\n",
        "drive.mount('/content/drive')\n",
        "img = cv2.imread(\"/content/drive/MyDrive/hi.png\", 1)\n",
        "from google.colab.patches import cv2_imshow\n",
        "cv2_imshow(img)"
      ],
      "metadata": {
        "colab": {
          "base_uri": "https://localhost:8080/",
          "height": 304
        },
        "id": "_5d8gF_oDlPh",
        "outputId": "4e2c50f4-c27e-461c-f30c-9cf6a50f2e2e"
      },
      "execution_count": null,
      "outputs": [
        {
          "output_type": "stream",
          "name": "stdout",
          "text": [
            "Drive already mounted at /content/drive; to attempt to forcibly remount, call drive.mount(\"/content/drive\", force_remount=True).\n"
          ]
        },
        {
          "output_type": "display_data",
          "data": {
            "text/plain": [
              "<PIL.Image.Image image mode=RGB size=545x269 at 0x7F83A82E0C40>"
            ],
            "image/png": "[encoded data removed]"
          },
          "metadata": {}
        }
      ]
    },
    {
      "cell_type": "code",
      "source": [
        "path={'A':['B','C'],\n",
        "      'B':['D','C','A'],\n",
        "      'C':['B','E','A'],\n",
        "      'D':['B','E'],\n",
        "      'E':['D','C']}\n",
        "      #'F':['E','C','H'],\n",
        "      #'G':['D','I','H'],\n",
        "      #'H':['G','D','F','I'],\n",
        "      #'I':['G','H']}\n",
        "length={('A','B'):1,\n",
        "        ('A','A'):0,\n",
        "        ('A','C'):1,\n",
        "        ('A','D'):2,\n",
        "        ('A','E'):2,\n",
        "        ('B','A'):1,\n",
        "        ('B','B'):0,\n",
        "        ('B','C'):1,\n",
        "        ('B','D'):2,\n",
        "        ('B','E'):2,\n",
        "        ('C','B'):1,\n",
        "        ('C','C'):0,\n",
        "        ('C','A'):1,\n",
        "        ('C','D'):2,\n",
        "        ('C','E'):2,\n",
        "        ('D','B'):1,\n",
        "        ('D','D'):0,\n",
        "        ('D','C'):2,\n",
        "        ('D','A'):2,\n",
        "        ('D','E'):1,\n",
        "        ('E','A'):2,\n",
        "        ('E','E'):0,\n",
        "        ('E','B'):2,\n",
        "        ('E','C'):2,\n",
        "        ('E','D'):1,\n",
        "        \n",
        "        }"
      ],
      "metadata": {
        "id": "vfAwMWdRHif9"
      },
      "execution_count": null,
      "outputs": []
    },
    {
      "cell_type": "code",
      "source": [],
      "metadata": {
        "id": "yDVNwn5uJRPo"
      },
      "execution_count": null,
      "outputs": []
    },
    {
      "cell_type": "code",
      "source": [
        "\n",
        "\n",
        "# random integer from 0 to 9\n",
        "def initializing_pheremone(path): \n",
        "  lo=[]\n",
        "  lp=[]\n",
        "  ji=list(path.keys())\n",
        "  for pair in itertools.product(ji,ji):\n",
        "    lo.append(pair)\n",
        "  for tup in lo:\n",
        "    if len(set(tup))>1:\n",
        "      lp.append(tup)\n",
        "  \n",
        "  \n",
        "  #for key, value in path.items():\n",
        "\n",
        "   # for j in value:\n",
        "    #  lo.append((key,j))\n",
        "  pheremone = dict.fromkeys(lp , 0)\n",
        "  \n",
        "  for key, value in pheremone.items():\n",
        "  #print(key,value)\n",
        "    pheremone[key]=round(random.uniform(0.1, 10.0),2)\n",
        "  return pheremone\n"
      ],
      "metadata": {
        "id": "THFynatIJYz0"
      },
      "execution_count": null,
      "outputs": []
    },
    {
      "cell_type": "code",
      "source": [
        "def ants_at_initial(ants,source):\n",
        "  for key, value in ants.items():\n",
        "    k=[source]\n",
        "    ants[key]=k\n",
        "  return ants"
      ],
      "metadata": {
        "id": "X-vo7bA0OURl"
      },
      "execution_count": null,
      "outputs": []
    },
    {
      "cell_type": "code",
      "source": [
        "def probability(pheremone,current_pos,path,not_visited,length):\n",
        "  #print('Im new')\n",
        "  #print(not_visited)\n",
        " # print('hello')\n",
        "  alpha=1\n",
        "  beta=1\n",
        "  q=0.5\n",
        "  potential_next=[]\n",
        "  probability=[]\n",
        "  sumt=0\n",
        "  #for key,value in path.items():\n",
        "  for i in not_visited:\n",
        "    #print(current_pos,i)\n",
        "    sumt+=((q/length[(current_pos,i)])**alpha)*(1/length[(current_pos,i)])**beta\n",
        "  \n",
        "  for i in not_visited:\n",
        "    potential_next.append(i)\n",
        "    Tij=(q/length[(current_pos,i)])**alpha\n",
        "    Nij=(1/length[(current_pos,i)])**beta\n",
        "    probability.append((Tij*Nij)/sumt)\n",
        "  #print(probability)\n",
        "  #print('potential')\n",
        "  #print(potential_next)\n",
        "  p=np.array(probability)\n",
        "  max_list=np.argmax(p)\n",
        "  return potential_next[max_list]\n",
        "\n",
        "\n",
        " # for key,value in path.items():\n",
        "  #  if key==current_pos:\n",
        "   #   for i in value:\n",
        "    #    potential_next.append(i)\n",
        "     #   Tij=(q/length[(key,i)])**alpha\n",
        "      #  Nij=(1/length[(key,i)])**beta\n",
        "       # probability.append((Tij*Nij)/sumt)\n"
      ],
      "metadata": {
        "id": "S-LG9YHLtCEQ"
      },
      "execution_count": null,
      "outputs": []
    },
    {
      "cell_type": "code",
      "source": [
        "def pheremone_local_updation(pheremone,length,i,j):\n",
        "  q=0.5\n",
        "  Tij=(pheremone[(i,j)])+q/length[(i,j)]\n",
        "  pheremone[(i,j)]=pheremone[(i,j)]+Tij\n",
        "  return pheremone\n",
        "\n",
        "def pheremone_global_updation(pheremone, length,i,j):\n",
        "  gamma=0.4\n",
        "  q=0.5\n",
        "  Tij=(pheremone[(i,j)])+q/length[(i,j)]\n",
        "  Tij=(1-gamma)*Tij\n",
        "  pheremone[(i,j)]=Tij\n",
        "  return pheremone\n",
        "\n"
      ],
      "metadata": {
        "id": "V4C-57vs3gnQ"
      },
      "execution_count": null,
      "outputs": []
    },
    {
      "cell_type": "code",
      "source": [
        "def ACO(ants,path,pheremone,iterations,length):\n",
        "  shortest_path_length=50\n",
        "  source='A'\n",
        "  destination='D'\n",
        "  shortest_trip=None\n",
        "  for i in range(0,iterations):\n",
        "    for key, value in ants.items():\n",
        "      source='A'\n",
        "      #print('ant')\n",
        "      current_pos=source\n",
        "      f=random.randint(0, len(path[current_pos])-1)\n",
        "      #print(f)\n",
        "      ll=path[current_pos]\n",
        "      #print(ll)\n",
        "      current_pos=ll[f]\n",
        "      not_visited=[]\n",
        "      \n",
        "      #for i in path.keys():\n",
        "        #if current_pos!=i:\n",
        "          #not_visited.append(i)\n",
        "      #print(path[current_pos])\n",
        "      not_visited=copy.deepcopy(path[current_pos])\n",
        "     # print(path)\n",
        "      #not_visited=[i if current_pos!=i else j=j for i,j in path.keys()]\n",
        "      #print(not_visited)\n",
        "      while(current_pos!=destination or not_visited):\n",
        "       # print('selected')\n",
        "        #print(current_pos)\n",
        "        p_max=probability(pheremone,current_pos,path,not_visited,length)\n",
        "       # print('ok')\n",
        "        #print(path)\n",
        "        pheremone=pheremone_local_updation(pheremone,length,current_pos,p_max)\n",
        "       # print('ok1')\n",
        "        #print(path)\n",
        "        ants[key].append(p_max)\n",
        "      #  print('ok2')\n",
        "        not_visited.remove(p_max)\n",
        "       # print(ants[key])\n",
        "        for i in path[p_max]:\n",
        "          if i not in not_visited and i not in ants[key]:\n",
        "            not_visited.append(i)\n",
        "        for i in not_visited:\n",
        "          if i in ants[key]:\n",
        "            not_visited.remove(i)\n",
        "           # print('ok3')\n",
        "        #print(path)\n",
        "      #  print('alright')\n",
        "       # print(not_visited)\n",
        "       # print('max is')\n",
        "       # print(p_max)\n",
        "        current_pos=p_max\n",
        "        if p_max==destination:\n",
        "          break\n",
        "    lengths=[]\n",
        "    \n",
        "    for key,value in ants.items():\n",
        "      l=0\n",
        "      for i in range(len(value)-1):\n",
        "        l+=length[(value[i],value[i+1])]\n",
        "      lengths.append(l)\n",
        "    lengths1=np.array(lengths)\n",
        "    min_length=np.argmin(lengths1)\n",
        "    if np.amin(lengths1)<shortest_path_length:\n",
        "      shortest_path_length=np.amin(lengths1)-1\n",
        "     # print('yahoo')\n",
        "     # print(min_length)\n",
        "      #print('great')\n",
        "      #print(ants)\n",
        "      shortest_trip=ants[min_length+1]\n",
        "      print('Shortest path:')\n",
        "      print(shortest_trip)\n",
        "      print('Shortest length:')\n",
        "      print(shortest_path_length)\n",
        "    for key,value in pheremone.items():\n",
        "      pheremone=pheremone_global_updation(pheremone,length,key[0],key[1])\n",
        "    for key,value in ants.items():\n",
        "      ants[key]=[]\n",
        "    return shortest_path_length,shortest_trip\n"
      ],
      "metadata": {
        "id": "Wv4sThcuL8El"
      },
      "execution_count": null,
      "outputs": []
    },
    {
      "cell_type": "code",
      "source": [
        "ants=initializing_ants()\n",
        "pheremone=initializing_pheremone(path)\n",
        "ants=ants_at_initial(ants,'A')\n",
        "iterations=4\n",
        "a,b=ACO(ants,path,pheremone,iterations,length)\n",
        "print(a,b)"
      ],
      "metadata": {
        "colab": {
          "base_uri": "https://localhost:8080/"
        },
        "id": "rzb7YjweAh_b",
        "outputId": "a18506df-e926-463a-be70-f8c5e7f97a10"
      },
      "execution_count": null,
      "outputs": [
        {
          "output_type": "stream",
          "name": "stdout",
          "text": [
            "Shortest path:\n",
            "['A', 'C', 'B', 'D']\n",
            "Shortest length:\n",
            "3\n",
            "3 ['A', 'C', 'B', 'D']\n"
          ]
        }
      ]
    }
  ]
}